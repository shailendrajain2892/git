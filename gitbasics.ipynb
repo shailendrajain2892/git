{
 "cells": [
  {
   "cell_type": "code",
   "execution_count": null,
   "metadata": {},
   "outputs": [],
   "source": [
    "we are learning today git basics \n",
    "we learned below commands \n",
    "git init --> to initialize the git repos, for event folder we need to do git init\n",
    "by default there is master branch\n",
    "to view branch use git branch command.\n",
    "to switch to branch use git checkout <branch name>. to merge the branch use git merge <branch name>\n"
   ]
  }
 ],
 "metadata": {
  "kernelspec": {
   "display_name": "Python 3",
   "language": "python",
   "name": "python3"
  },
  "language_info": {
   "codemirror_mode": {
    "name": "ipython",
    "version": 3
   },
   "file_extension": ".py",
   "mimetype": "text/x-python",
   "name": "python",
   "nbconvert_exporter": "python",
   "pygments_lexer": "ipython3",
   "version": "3.7.1"
  }
 },
 "nbformat": 4,
 "nbformat_minor": 2
}
